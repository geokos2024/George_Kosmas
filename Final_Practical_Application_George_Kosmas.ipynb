{
  "nbformat": 4,
  "nbformat_minor": 0,
  "metadata": {
    "colab": {
      "provenance": []
    },
    "kernelspec": {
      "name": "python3",
      "display_name": "Python 3"
    },
    "language_info": {
      "name": "python"
    }
  },
  "cells": [
    {
      "cell_type": "code",
      "source": [
        "import pandas as pd\n",
        "from sklearn.ensemble import RandomForestClassifier\n",
        "from sklearn.preprocessing import RobustScaler\n",
        "from sklearn.metrics import accuracy_score, classification_report, confusion_matrix"
      ],
      "metadata": {
        "id": "4de84AtAbdA3"
      },
      "execution_count": 1,
      "outputs": []
    },
    {
      "cell_type": "code",
      "source": [
        "# Load the dataset\n",
        "url = \"https://raw.githubusercontent.com/kdemertzis/EKPA/main/Data/DarkNet.csv\"\n",
        "df = pd.read_csv(url)"
      ],
      "metadata": {
        "id": "TENw7MAmcCsA",
        "outputId": "70c1a205-69d3-4faf-ad4c-50f3116ddb4e",
        "colab": {
          "base_uri": "https://localhost:8080/"
        }
      },
      "execution_count": 2,
      "outputs": [
        {
          "output_type": "stream",
          "name": "stderr",
          "text": [
            "<ipython-input-2-6a4ab5b38918>:3: DtypeWarning: Columns (18) have mixed types. Specify dtype option on import or set low_memory=False.\n",
            "  df = pd.read_csv(url)\n"
          ]
        }
      ]
    },
    {
      "cell_type": "code",
      "source": [
        "# Preprocess the data\n",
        "X = df.drop([\"Label-1\",\"Label-2\"], axis=1)  # features\n",
        "y = df[\"Label-1\"]  # target variable"
      ],
      "metadata": {
        "id": "wG16tLeFb-vm"
      },
      "execution_count": 3,
      "outputs": []
    },
    {
      "cell_type": "code",
      "source": [
        "# Scale the data using StandardScaler\n",
        "numerical_cols = df.select_dtypes(include=['int64']).columns\n",
        "scaler = RobustScaler()\n",
        "X_scaled = scaler.fit_transform(df[numerical_cols])"
      ],
      "metadata": {
        "id": "iQjgvo_Mb8ba"
      },
      "execution_count": 4,
      "outputs": []
    },
    {
      "cell_type": "code",
      "source": [
        "# Split the data into training and testing sets\n",
        "from sklearn.model_selection import train_test_split\n",
        "X_train, X_test, y_train, y_test = train_test_split(X_scaled, y, test_size=0.2, random_state=42)"
      ],
      "metadata": {
        "id": "oJtBcpk-b6h6"
      },
      "execution_count": 5,
      "outputs": []
    },
    {
      "cell_type": "code",
      "source": [
        "# Train a Random Forest Classifier model\n",
        "rfc = RandomForestClassifier(n_estimators=100, random_state=42)\n",
        "rfc.fit(X_train, y_train)"
      ],
      "metadata": {
        "id": "tckrnazwb2X2",
        "outputId": "d5eb2c85-e83d-491a-edb9-eef250f8f010",
        "colab": {
          "base_uri": "https://localhost:8080/",
          "height": 74
        }
      },
      "execution_count": 6,
      "outputs": [
        {
          "output_type": "execute_result",
          "data": {
            "text/plain": [
              "RandomForestClassifier(random_state=42)"
            ],
            "text/html": [
              "<style>#sk-container-id-1 {color: black;background-color: white;}#sk-container-id-1 pre{padding: 0;}#sk-container-id-1 div.sk-toggleable {background-color: white;}#sk-container-id-1 label.sk-toggleable__label {cursor: pointer;display: block;width: 100%;margin-bottom: 0;padding: 0.3em;box-sizing: border-box;text-align: center;}#sk-container-id-1 label.sk-toggleable__label-arrow:before {content: \"▸\";float: left;margin-right: 0.25em;color: #696969;}#sk-container-id-1 label.sk-toggleable__label-arrow:hover:before {color: black;}#sk-container-id-1 div.sk-estimator:hover label.sk-toggleable__label-arrow:before {color: black;}#sk-container-id-1 div.sk-toggleable__content {max-height: 0;max-width: 0;overflow: hidden;text-align: left;background-color: #f0f8ff;}#sk-container-id-1 div.sk-toggleable__content pre {margin: 0.2em;color: black;border-radius: 0.25em;background-color: #f0f8ff;}#sk-container-id-1 input.sk-toggleable__control:checked~div.sk-toggleable__content {max-height: 200px;max-width: 100%;overflow: auto;}#sk-container-id-1 input.sk-toggleable__control:checked~label.sk-toggleable__label-arrow:before {content: \"▾\";}#sk-container-id-1 div.sk-estimator input.sk-toggleable__control:checked~label.sk-toggleable__label {background-color: #d4ebff;}#sk-container-id-1 div.sk-label input.sk-toggleable__control:checked~label.sk-toggleable__label {background-color: #d4ebff;}#sk-container-id-1 input.sk-hidden--visually {border: 0;clip: rect(1px 1px 1px 1px);clip: rect(1px, 1px, 1px, 1px);height: 1px;margin: -1px;overflow: hidden;padding: 0;position: absolute;width: 1px;}#sk-container-id-1 div.sk-estimator {font-family: monospace;background-color: #f0f8ff;border: 1px dotted black;border-radius: 0.25em;box-sizing: border-box;margin-bottom: 0.5em;}#sk-container-id-1 div.sk-estimator:hover {background-color: #d4ebff;}#sk-container-id-1 div.sk-parallel-item::after {content: \"\";width: 100%;border-bottom: 1px solid gray;flex-grow: 1;}#sk-container-id-1 div.sk-label:hover label.sk-toggleable__label {background-color: #d4ebff;}#sk-container-id-1 div.sk-serial::before {content: \"\";position: absolute;border-left: 1px solid gray;box-sizing: border-box;top: 0;bottom: 0;left: 50%;z-index: 0;}#sk-container-id-1 div.sk-serial {display: flex;flex-direction: column;align-items: center;background-color: white;padding-right: 0.2em;padding-left: 0.2em;position: relative;}#sk-container-id-1 div.sk-item {position: relative;z-index: 1;}#sk-container-id-1 div.sk-parallel {display: flex;align-items: stretch;justify-content: center;background-color: white;position: relative;}#sk-container-id-1 div.sk-item::before, #sk-container-id-1 div.sk-parallel-item::before {content: \"\";position: absolute;border-left: 1px solid gray;box-sizing: border-box;top: 0;bottom: 0;left: 50%;z-index: -1;}#sk-container-id-1 div.sk-parallel-item {display: flex;flex-direction: column;z-index: 1;position: relative;background-color: white;}#sk-container-id-1 div.sk-parallel-item:first-child::after {align-self: flex-end;width: 50%;}#sk-container-id-1 div.sk-parallel-item:last-child::after {align-self: flex-start;width: 50%;}#sk-container-id-1 div.sk-parallel-item:only-child::after {width: 0;}#sk-container-id-1 div.sk-dashed-wrapped {border: 1px dashed gray;margin: 0 0.4em 0.5em 0.4em;box-sizing: border-box;padding-bottom: 0.4em;background-color: white;}#sk-container-id-1 div.sk-label label {font-family: monospace;font-weight: bold;display: inline-block;line-height: 1.2em;}#sk-container-id-1 div.sk-label-container {text-align: center;}#sk-container-id-1 div.sk-container {/* jupyter's `normalize.less` sets `[hidden] { display: none; }` but bootstrap.min.css set `[hidden] { display: none !important; }` so we also need the `!important` here to be able to override the default hidden behavior on the sphinx rendered scikit-learn.org. See: https://github.com/scikit-learn/scikit-learn/issues/21755 */display: inline-block !important;position: relative;}#sk-container-id-1 div.sk-text-repr-fallback {display: none;}</style><div id=\"sk-container-id-1\" class=\"sk-top-container\"><div class=\"sk-text-repr-fallback\"><pre>RandomForestClassifier(random_state=42)</pre><b>In a Jupyter environment, please rerun this cell to show the HTML representation or trust the notebook. <br />On GitHub, the HTML representation is unable to render, please try loading this page with nbviewer.org.</b></div><div class=\"sk-container\" hidden><div class=\"sk-item\"><div class=\"sk-estimator sk-toggleable\"><input class=\"sk-toggleable__control sk-hidden--visually\" id=\"sk-estimator-id-1\" type=\"checkbox\" checked><label for=\"sk-estimator-id-1\" class=\"sk-toggleable__label sk-toggleable__label-arrow\">RandomForestClassifier</label><div class=\"sk-toggleable__content\"><pre>RandomForestClassifier(random_state=42)</pre></div></div></div></div></div>"
            ]
          },
          "metadata": {},
          "execution_count": 6
        }
      ]
    },
    {
      "cell_type": "code",
      "source": [
        "# Evaluate the model\n",
        "y_pred = rfc.predict(X_test)\n",
        "print(\"Accuracy:\", accuracy_score(y_test, y_pred))\n",
        "print(\"Classification Report:\")\n",
        "print(classification_report(y_test, y_pred))\n",
        "print(\"Confusion Matrix:\")\n",
        "print(confusion_matrix(y_test, y_pred))"
      ],
      "metadata": {
        "id": "Fuq8yUOgb0SJ",
        "outputId": "8990e168-c776-4255-c985-798705951427",
        "colab": {
          "base_uri": "https://localhost:8080/"
        }
      },
      "execution_count": 7,
      "outputs": [
        {
          "output_type": "stream",
          "name": "stdout",
          "text": [
            "Accuracy: 0.9720034995625547\n",
            "Classification Report:\n",
            "              precision    recall  f1-score   support\n",
            "\n",
            "     Non-Tor       1.00      1.00      1.00      6159\n",
            "      NonVPN       0.95      0.97      0.96      4590\n",
            "         Tor       0.98      0.88      0.92       279\n",
            "         VPN       0.95      0.93      0.94      2688\n",
            "\n",
            "    accuracy                           0.97     13716\n",
            "   macro avg       0.97      0.94      0.95     13716\n",
            "weighted avg       0.97      0.97      0.97     13716\n",
            "\n",
            "Confusion Matrix:\n",
            "[[6154    1    0    4]\n",
            " [   7 4440    6  137]\n",
            " [   0   34  245    0]\n",
            " [   7  188    0 2493]]\n"
          ]
        }
      ]
    },
    {
      "cell_type": "code",
      "source": [
        "# Use the trained model to detect anomalies\n",
        "def detect_anomalies(X_new):\n",
        "    predictions = rfc.predict(X_new)\n",
        "    anomalies = [i for i, x in enumerate(predictions) if x == 1]\n",
        "    # assume label 1 is anomaly\n",
        "    return anomalies"
      ],
      "metadata": {
        "id": "VqWQHYwlbusf"
      },
      "execution_count": 8,
      "outputs": []
    },
    {
      "cell_type": "code",
      "source": [
        "# Create a new dataset with the same feature names as the original dataset\n",
        "new_data = pd.DataFrame({\n",
        "\n",
        "    'Src_IP': ['192.168.1.1', '192.168.1.2', '192.168.1.3', '192.168.1.4', '192.168.1.5'],\n",
        "    'Src_Port': [80, 443, 22, 8080, 21],\n",
        "    'Dst_IP': ['8.8.8.8', '8.8.4.4', '1.1.1.1', '4.4.4.4', '2.2.2.2'],\n",
        "    'Dst_Port': [53, 80, 443, 22, 21],\n",
        "    'Protocol': ['TCP', 'UDP', 'TCP', 'UDP', 'TCP'],\n",
        "    'Flow_Duration': [10.2, 5.1, 3.4, 2.1, 1.5],\n",
        "    'Total_Fwd_Packet': [100, 50, 20, 10, 5],\n",
        "    'Total_Bwd_packets': [50, 20, 10, 5, 2],\n",
        "    'Total_Length_of_Fwd_Packet': [1000, 500, 200, 100, 50],\n",
        "    'Total_Length_of_Bwd_Packet': [500, 200, 100, 50, 20],\n",
        "    'Fwd_Packet_Length_Max': [1500, 1000, 500, 200, 100],\n",
        "    'Fwd_Packet_Length_Min': [50, 20, 10, 5, 2],\n",
        "    'Fwd_Packet_Length_Mean': [500, 200, 100, 50, 20],\n",
        "    'Fwd_Packet_Length_Std': [100, 50, 20, 10, 5],\n",
        "    'Bwd_Packet_Length_Max': [1000, 500, 200, 100, 50],\n",
        "    'Bwd_Packet_Length_Min': [20, 10, 5, 2, 1],\n",
        "    'Bwd_Packet_Length_Mean': [200, 100, 50, 20, 10],\n",
        "    'Flow_Bytes/s': [1000, 500, 200, 100, 50],\n",
        "    'Flow_Packets/s': [50, 20, 10, 5, 2],\n",
        "    'Flow_IAT_Mean': [10, 5, 2, 1, 0.5],\n",
        "    'Flow_IAT_Std': [5, 2, 1, 0.5, 0.2],\n",
        "    'Flow_IAT_Max': [20, 10, 5, 2, 1],\n",
        "    'Flow_IAT_Min': [0.1, 0.05, 0.02, 0.01, 0.005],\n",
        "    'Fwd_IAT_Total': [100, 50, 20, 10, 5],\n",
        "    'Fwd_IAT_Mean': [10, 5, 2, 1, 0.5],\n",
        "    'Fwd_IAT_Std': [5, 2, 1, 0.5, 0.2],\n",
        "    'Fwd_IAT_Max': [20, 10, 5, 2, 1],\n",
        "    'Fwd_IAT_Min': [0.1, 0.05, 0.02, 0.01, 0.005],\n",
        "    'Bwd_IAT_Total': [50, 20, 10, 5, 2],\n",
        "    'Bwd_IAT_Mean': [5, 2, 1, 0.5, 0.2],\n",
        "    'Bwd_IAT_Std': [2, 1, 0.5, 0.2, 0.1],\n",
        "    'Bwd_IAT_Max': [10, 5, 2, 1, 0.5],\n",
        "    'Bwd_IAT_Min': [0.05, 0.02, 0.01, 0.005, 0.002],\n",
        "    'Fwd_PSH_Flags': [10, 5, 2, 1, 0],\n",
        "    'Bwd_PSH_Flags': [5, 2, 1, 0, 0],\n",
        "    'Fwd_URG_Flags': [2, 1, 0, 0, 0],\n",
        "    'Bwd_URG_Flags': [1, 0, 0, 0, 0],\n",
        "    'Fwd_Header_Length': [50, 20, 10, 5, 2],\n",
        "    'Bwd_Header_Length': [20, 10, 5, 2, 1],\n",
        "    'Fwd_Packets/s': [100, 50, 20, 10, 5],\n",
        "    'Bwd_Packets/s': [50, 20, 10, 5, 2],\n",
        "    'Packet_Length_Min': [50, 20, 10, 5, 2],\n",
        "    'Packet_Length_Max': [1500, 1000, 500, 200, 100],\n",
        "    'Packet_Length_Mean': [500, 200, 100, 50, 20],\n",
        "    'Packet_Length_Std': [100, 50, 20, 10, 5],\n",
        "    'Packet_Length_Variance': [200, 100, 50, 20, 10],\n",
        "    'FIN_Flag_Count': [10, 5, 2, 1, 0],\n",
        "    'SYN_Flag_Count': [5, 2, 1, 0, 0],\n",
        "    'RST_Flag_Count': [2, 1, 0, 0, 0],\n",
        "    'PSH_Flag_Count': [10, 5, 2, 1, 0],\n",
        "    'ACK_Flag_Count': [50, 20, 10, 5, 2],\n",
        "    'URG_Flag_Count': [2, 1, 0, 0, 0],\n",
        "    'CWE_Flag_Count': [1, 0, 0, 0, 0],\n",
        "    'ECE_Flag_Count': [1, 0, 0, 0, 0],\n",
        "    'Down/Up_Ratio': [2, 1, 0.5, 0.2, 0.1],\n",
        "    'Average_Packet_Size': [500, 200, 100, 50, 20],\n",
        "    'Fwd_Segment_Size_Avg': [500, 200, 100, 50, 20],\n",
        "    'Bwd_Segment_Size_Avg': [200, 100, 50, 20, 10],\n",
        "    'Fwd_Bytes/Bulk_Avg': [1000, 500, 200, 100, 50],\n",
        "    'Fwd_Packet/Bulk_Avg': [50, 20, 10, 5, 2],\n",
        "    'Fwd_Bulk_Rate_Avg': [100, 50, 20, 10, 5],\n",
        "    'Bwd_Bytes/Bulk_Avg': [500, 200, 100, 50, 20],\n",
        "    'Bwd_Packet/Bulk_Avg': [20, 10, 5, 2, 1],\n",
        "    'Bwd_Bulk_Rate_Avg': [50, 20, 10, 5, 2],\n",
        "    'Subflow_Fwd_Packets': [100, 50, 20, 10, 5],\n",
        "    'Subflow_Fwd_Bytes': [1000, 500, 200, 100, 50],\n",
        "    'Subflow_Bwd_Packets': [50, 20, 10, 5, 2],\n",
        "    'Subflow_Bwd_Bytes': [500, 200, 100, 50, 20],\n",
        "    'FWD_Init_Win_Bytes': [1000, 500, 200, 100, 50],\n",
        "    'Bwd_Init_Win_Bytes': [500, 200, 100, 50, 20],\n",
        "    'Fwd_Act_Data_Pkts': [50, 20, 10, 5, 2],\n",
        "    'Fwd_Seg_Size_Min': [50, 20, 10, 5, 2],\n",
        "    'Active_Mean': [10, 5, 2, 1, 0.5],\n",
        "    'Active_Std': [5, 2, 1, 0.5, 0.2],\n",
        "    'Active_Max': [20, 10, 5, 2, 1],\n",
        "    'Active_Min': [0.1, 0.05, 0.02, 0.01, 0.005],\n",
        "    'Idle_Mean': [5, 2, 1, 0.5, 0.2],\n",
        "    'Idle_Std': [2, 1, 0.5, 0.2, 0.1],\n",
        "    'Idle_Max': [10, 5, 2, 1, 0.5],\n",
        "    'Idle_Min': [0.05, 0.02, 0.01, 0.005, 0]\n",
        "})\n",
        "\n",
        "new_data_scaled = scaler.transform (new_data)\n",
        "\n",
        "# Detect anomalies\n",
        "anomalies = detect_anomalies(new_data_scaled)\n",
        "print(\"Anomalies:\", anomalies)"
      ],
      "metadata": {
        "id": "P6tzUb9Pbr4R",
        "outputId": "c129565f-2263-41f8-c4b1-ce7b643877cf",
        "colab": {
          "base_uri": "https://localhost:8080/",
          "height": 477
        }
      },
      "execution_count": 9,
      "outputs": [
        {
          "output_type": "error",
          "ename": "ValueError",
          "evalue": "The feature names should match those that were passed during fit.\nFeature names unseen at fit time:\n- Average_Packet_Size\n- Bwd_IAT_Mean\n- Bwd_IAT_Std\n- Bwd_Packet_Length_Mean\n- Bwd_Packets/s\n- ...\n",
          "traceback": [
            "\u001b[0;31m---------------------------------------------------------------------------\u001b[0m",
            "\u001b[0;31mValueError\u001b[0m                                Traceback (most recent call last)",
            "\u001b[0;32m<ipython-input-9-4c4eae5b4aa6>\u001b[0m in \u001b[0;36m<cell line: 86>\u001b[0;34m()\u001b[0m\n\u001b[1;32m     84\u001b[0m })\n\u001b[1;32m     85\u001b[0m \u001b[0;34m\u001b[0m\u001b[0m\n\u001b[0;32m---> 86\u001b[0;31m \u001b[0mnew_data_scaled\u001b[0m \u001b[0;34m=\u001b[0m \u001b[0mscaler\u001b[0m\u001b[0;34m.\u001b[0m\u001b[0mtransform\u001b[0m\u001b[0;34m(\u001b[0m\u001b[0mnew_data\u001b[0m\u001b[0;34m)\u001b[0m\u001b[0;34m\u001b[0m\u001b[0;34m\u001b[0m\u001b[0m\n\u001b[0m\u001b[1;32m     87\u001b[0m \u001b[0;34m\u001b[0m\u001b[0m\n\u001b[1;32m     88\u001b[0m \u001b[0;31m# Detect anomalies\u001b[0m\u001b[0;34m\u001b[0m\u001b[0;34m\u001b[0m\u001b[0m\n",
            "\u001b[0;32m/usr/local/lib/python3.10/dist-packages/sklearn/utils/_set_output.py\u001b[0m in \u001b[0;36mwrapped\u001b[0;34m(self, X, *args, **kwargs)\u001b[0m\n\u001b[1;32m    138\u001b[0m     \u001b[0;34m@\u001b[0m\u001b[0mwraps\u001b[0m\u001b[0;34m(\u001b[0m\u001b[0mf\u001b[0m\u001b[0;34m)\u001b[0m\u001b[0;34m\u001b[0m\u001b[0;34m\u001b[0m\u001b[0m\n\u001b[1;32m    139\u001b[0m     \u001b[0;32mdef\u001b[0m \u001b[0mwrapped\u001b[0m\u001b[0;34m(\u001b[0m\u001b[0mself\u001b[0m\u001b[0;34m,\u001b[0m \u001b[0mX\u001b[0m\u001b[0;34m,\u001b[0m \u001b[0;34m*\u001b[0m\u001b[0margs\u001b[0m\u001b[0;34m,\u001b[0m \u001b[0;34m**\u001b[0m\u001b[0mkwargs\u001b[0m\u001b[0;34m)\u001b[0m\u001b[0;34m:\u001b[0m\u001b[0;34m\u001b[0m\u001b[0;34m\u001b[0m\u001b[0m\n\u001b[0;32m--> 140\u001b[0;31m         \u001b[0mdata_to_wrap\u001b[0m \u001b[0;34m=\u001b[0m \u001b[0mf\u001b[0m\u001b[0;34m(\u001b[0m\u001b[0mself\u001b[0m\u001b[0;34m,\u001b[0m \u001b[0mX\u001b[0m\u001b[0;34m,\u001b[0m \u001b[0;34m*\u001b[0m\u001b[0margs\u001b[0m\u001b[0;34m,\u001b[0m \u001b[0;34m**\u001b[0m\u001b[0mkwargs\u001b[0m\u001b[0;34m)\u001b[0m\u001b[0;34m\u001b[0m\u001b[0;34m\u001b[0m\u001b[0m\n\u001b[0m\u001b[1;32m    141\u001b[0m         \u001b[0;32mif\u001b[0m \u001b[0misinstance\u001b[0m\u001b[0;34m(\u001b[0m\u001b[0mdata_to_wrap\u001b[0m\u001b[0;34m,\u001b[0m \u001b[0mtuple\u001b[0m\u001b[0;34m)\u001b[0m\u001b[0;34m:\u001b[0m\u001b[0;34m\u001b[0m\u001b[0;34m\u001b[0m\u001b[0m\n\u001b[1;32m    142\u001b[0m             \u001b[0;31m# only wrap the first output for cross decomposition\u001b[0m\u001b[0;34m\u001b[0m\u001b[0;34m\u001b[0m\u001b[0m\n",
            "\u001b[0;32m/usr/local/lib/python3.10/dist-packages/sklearn/preprocessing/_data.py\u001b[0m in \u001b[0;36mtransform\u001b[0;34m(self, X)\u001b[0m\n\u001b[1;32m   1575\u001b[0m         \"\"\"\n\u001b[1;32m   1576\u001b[0m         \u001b[0mcheck_is_fitted\u001b[0m\u001b[0;34m(\u001b[0m\u001b[0mself\u001b[0m\u001b[0;34m)\u001b[0m\u001b[0;34m\u001b[0m\u001b[0;34m\u001b[0m\u001b[0m\n\u001b[0;32m-> 1577\u001b[0;31m         X = self._validate_data(\n\u001b[0m\u001b[1;32m   1578\u001b[0m             \u001b[0mX\u001b[0m\u001b[0;34m,\u001b[0m\u001b[0;34m\u001b[0m\u001b[0;34m\u001b[0m\u001b[0m\n\u001b[1;32m   1579\u001b[0m             \u001b[0maccept_sparse\u001b[0m\u001b[0;34m=\u001b[0m\u001b[0;34m(\u001b[0m\u001b[0;34m\"csr\"\u001b[0m\u001b[0;34m,\u001b[0m \u001b[0;34m\"csc\"\u001b[0m\u001b[0;34m)\u001b[0m\u001b[0;34m,\u001b[0m\u001b[0;34m\u001b[0m\u001b[0;34m\u001b[0m\u001b[0m\n",
            "\u001b[0;32m/usr/local/lib/python3.10/dist-packages/sklearn/base.py\u001b[0m in \u001b[0;36m_validate_data\u001b[0;34m(self, X, y, reset, validate_separately, **check_params)\u001b[0m\n\u001b[1;32m    546\u001b[0m             \u001b[0mvalidated\u001b[0m\u001b[0;34m.\u001b[0m\u001b[0;34m\u001b[0m\u001b[0;34m\u001b[0m\u001b[0m\n\u001b[1;32m    547\u001b[0m         \"\"\"\n\u001b[0;32m--> 548\u001b[0;31m         \u001b[0mself\u001b[0m\u001b[0;34m.\u001b[0m\u001b[0m_check_feature_names\u001b[0m\u001b[0;34m(\u001b[0m\u001b[0mX\u001b[0m\u001b[0;34m,\u001b[0m \u001b[0mreset\u001b[0m\u001b[0;34m=\u001b[0m\u001b[0mreset\u001b[0m\u001b[0;34m)\u001b[0m\u001b[0;34m\u001b[0m\u001b[0;34m\u001b[0m\u001b[0m\n\u001b[0m\u001b[1;32m    549\u001b[0m \u001b[0;34m\u001b[0m\u001b[0m\n\u001b[1;32m    550\u001b[0m         \u001b[0;32mif\u001b[0m \u001b[0my\u001b[0m \u001b[0;32mis\u001b[0m \u001b[0;32mNone\u001b[0m \u001b[0;32mand\u001b[0m \u001b[0mself\u001b[0m\u001b[0;34m.\u001b[0m\u001b[0m_get_tags\u001b[0m\u001b[0;34m(\u001b[0m\u001b[0;34m)\u001b[0m\u001b[0;34m[\u001b[0m\u001b[0;34m\"requires_y\"\u001b[0m\u001b[0;34m]\u001b[0m\u001b[0;34m:\u001b[0m\u001b[0;34m\u001b[0m\u001b[0;34m\u001b[0m\u001b[0m\n",
            "\u001b[0;32m/usr/local/lib/python3.10/dist-packages/sklearn/base.py\u001b[0m in \u001b[0;36m_check_feature_names\u001b[0;34m(self, X, reset)\u001b[0m\n\u001b[1;32m    479\u001b[0m                 )\n\u001b[1;32m    480\u001b[0m \u001b[0;34m\u001b[0m\u001b[0m\n\u001b[0;32m--> 481\u001b[0;31m             \u001b[0;32mraise\u001b[0m \u001b[0mValueError\u001b[0m\u001b[0;34m(\u001b[0m\u001b[0mmessage\u001b[0m\u001b[0;34m)\u001b[0m\u001b[0;34m\u001b[0m\u001b[0;34m\u001b[0m\u001b[0m\n\u001b[0m\u001b[1;32m    482\u001b[0m \u001b[0;34m\u001b[0m\u001b[0m\n\u001b[1;32m    483\u001b[0m     def _validate_data(\n",
            "\u001b[0;31mValueError\u001b[0m: The feature names should match those that were passed during fit.\nFeature names unseen at fit time:\n- Average_Packet_Size\n- Bwd_IAT_Mean\n- Bwd_IAT_Std\n- Bwd_Packet_Length_Mean\n- Bwd_Packets/s\n- ...\n"
          ]
        }
      ]
    }
  ]
}