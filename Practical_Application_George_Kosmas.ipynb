{
  "nbformat": 4,
  "nbformat_minor": 0,
  "metadata": {
    "colab": {
      "provenance": [],
      "include_colab_link": true
    },
    "kernelspec": {
      "name": "python3",
      "display_name": "Python 3"
    },
    "language_info": {
      "name": "python"
    }
  },
  "cells": [
    {
      "cell_type": "markdown",
      "metadata": {
        "id": "view-in-github",
        "colab_type": "text"
      },
      "source": [
        "<a href=\"https://colab.research.google.com/github/geokos2024/George_Kosmas/blob/main/Practical_Application_George_Kosmas.ipynb\" target=\"_parent\"><img src=\"https://colab.research.google.com/assets/colab-badge.svg\" alt=\"Open In Colab\"/></a>"
      ]
    },
    {
      "cell_type": "code",
      "source": [
        "import pandas as pd\n",
        "from sklearn.ensemble import RandomForestClassifier\n",
        "from sklearn.preprocessing import StandardScaler\n",
        "from sklearn.metrics import accuracy_score, classification_report, confusion_matrix"
      ],
      "metadata": {
        "id": "4de84AtAbdA3"
      },
      "execution_count": null,
      "outputs": []
    },
    {
      "cell_type": "code",
      "source": [
        "# Load the dataset\n",
        "df = pd.read_csv(\"https://github.com/kdemertzis/EKPA/blob/main/Data/DarkNet.csv\")"
      ],
      "metadata": {
        "id": "TENw7MAmcCsA"
      },
      "execution_count": null,
      "outputs": []
    },
    {
      "cell_type": "code",
      "source": [
        "# Preprocess the data\n",
        "X = df.drop([\"label\"], axis=1)  # features\n",
        "y = df[\"label\"]  # target variable"
      ],
      "metadata": {
        "id": "wG16tLeFb-vm"
      },
      "execution_count": null,
      "outputs": []
    },
    {
      "cell_type": "code",
      "source": [
        "# Scale the data using StandardScaler\n",
        "scaler = StandardScaler()\n",
        "X_scaled = scaler.fit_transform(X)"
      ],
      "metadata": {
        "id": "iQjgvo_Mb8ba"
      },
      "execution_count": null,
      "outputs": []
    },
    {
      "cell_type": "code",
      "source": [
        "# Split the data into training and testing sets\n",
        "from sklearn.model_selection import train_test_split\n",
        "X_train, X_test, y_train, y_test = train_test_split(X_scaled, y, test_size=0.2, random_state=42)"
      ],
      "metadata": {
        "id": "oJtBcpk-b6h6"
      },
      "execution_count": null,
      "outputs": []
    },
    {
      "cell_type": "code",
      "source": [
        "# Train a Random Forest Classifier model\n",
        "rfc = RandomForestClassifier(n_estimators=100, random_state=42)\n",
        "rfc.fit(X_train, y_train)"
      ],
      "metadata": {
        "id": "tckrnazwb2X2"
      },
      "execution_count": null,
      "outputs": []
    },
    {
      "cell_type": "code",
      "source": [
        "# Evaluate the model\n",
        "y_pred = rfc.predict(X_test)\n",
        "print(\"Accuracy:\", accuracy_score(y_test, y_pred))\n",
        "print(\"Classification Report:\")\n",
        "print(classification_report(y_test, y_pred))\n",
        "print(\"Confusion Matrix:\")\n",
        "print(confusion_matrix(y_test, y_pred))"
      ],
      "metadata": {
        "id": "Fuq8yUOgb0SJ"
      },
      "execution_count": null,
      "outputs": []
    },
    {
      "cell_type": "code",
      "source": [
        "# Use the trained model to detect anomalies\n",
        "def detect_anomalies(X_new):\n",
        "    predictions = rfc.predict(X_new)\n",
        "    anomalies = [i for i, x in enumerate(predictions) if x == 1]\n",
        "    # assume label 1 is anomaly\n",
        "    return anomalies"
      ],
      "metadata": {
        "id": "VqWQHYwlbusf"
      },
      "execution_count": null,
      "outputs": []
    },
    {
      "cell_type": "code",
      "source": [
        "# Example usage:\n",
        "new_data = pd.DataFrame({\"IP_info\": [\"192.168.1.1\", \"10.0.0.1\"],\n",
        "                         \"packets\": [10, 20],\n",
        "                         \"packet_length\": [100, 200],\n",
        "                         \"protocol\": [\"TCP\", \"UDP\"],\n",
        "                         \"IAT\": [0.5, 1.0]})\n",
        "new_data_scaled = scaler.transform(new_data)\n",
        "anomalies = detect_anomalies(new_data_scaled)\n",
        "print(\"Anomalies:\", anomalies)"
      ],
      "metadata": {
        "id": "P6tzUb9Pbr4R"
      },
      "execution_count": null,
      "outputs": []
    }
  ]
}