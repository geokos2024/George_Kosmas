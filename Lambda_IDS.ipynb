{
  "nbformat": 4,
  "nbformat_minor": 0,
  "metadata": {
    "colab": {
      "provenance": [],
      "include_colab_link": true
    },
    "kernelspec": {
      "name": "python3",
      "display_name": "Python 3"
    },
    "language_info": {
      "name": "python"
    }
  },
  "cells": [
    {
      "cell_type": "markdown",
      "metadata": {
        "id": "view-in-github",
        "colab_type": "text"
      },
      "source": [
        "<a href=\"https://colab.research.google.com/github/geokos2024/George_Kosmas/blob/main/Lambda_IDS.ipynb\" target=\"_parent\"><img src=\"https://colab.research.google.com/assets/colab-badge.svg\" alt=\"Open In Colab\"/></a>"
      ]
    },
    {
      "cell_type": "code",
      "execution_count": 1,
      "metadata": {
        "colab": {
          "base_uri": "https://localhost:8080/"
        },
        "id": "FMYBJpBujxX1",
        "outputId": "1a31f4cc-55b4-492c-ed7e-c04ccac6e3af"
      },
      "outputs": [
        {
          "output_type": "stream",
          "name": "stdout",
          "text": [
            "Requirement already satisfied: tensorflow in /usr/local/lib/python3.10/dist-packages (2.15.0)\n",
            "Requirement already satisfied: absl-py>=1.0.0 in /usr/local/lib/python3.10/dist-packages (from tensorflow) (1.4.0)\n",
            "Requirement already satisfied: astunparse>=1.6.0 in /usr/local/lib/python3.10/dist-packages (from tensorflow) (1.6.3)\n",
            "Requirement already satisfied: flatbuffers>=23.5.26 in /usr/local/lib/python3.10/dist-packages (from tensorflow) (24.3.25)\n",
            "Requirement already satisfied: gast!=0.5.0,!=0.5.1,!=0.5.2,>=0.2.1 in /usr/local/lib/python3.10/dist-packages (from tensorflow) (0.5.4)\n",
            "Requirement already satisfied: google-pasta>=0.1.1 in /usr/local/lib/python3.10/dist-packages (from tensorflow) (0.2.0)\n",
            "Requirement already satisfied: h5py>=2.9.0 in /usr/local/lib/python3.10/dist-packages (from tensorflow) (3.9.0)\n",
            "Requirement already satisfied: libclang>=13.0.0 in /usr/local/lib/python3.10/dist-packages (from tensorflow) (18.1.1)\n",
            "Requirement already satisfied: ml-dtypes~=0.2.0 in /usr/local/lib/python3.10/dist-packages (from tensorflow) (0.2.0)\n",
            "Requirement already satisfied: numpy<2.0.0,>=1.23.5 in /usr/local/lib/python3.10/dist-packages (from tensorflow) (1.25.2)\n",
            "Requirement already satisfied: opt-einsum>=2.3.2 in /usr/local/lib/python3.10/dist-packages (from tensorflow) (3.3.0)\n",
            "Requirement already satisfied: packaging in /usr/local/lib/python3.10/dist-packages (from tensorflow) (24.0)\n",
            "Requirement already satisfied: protobuf!=4.21.0,!=4.21.1,!=4.21.2,!=4.21.3,!=4.21.4,!=4.21.5,<5.0.0dev,>=3.20.3 in /usr/local/lib/python3.10/dist-packages (from tensorflow) (3.20.3)\n",
            "Requirement already satisfied: setuptools in /usr/local/lib/python3.10/dist-packages (from tensorflow) (67.7.2)\n",
            "Requirement already satisfied: six>=1.12.0 in /usr/local/lib/python3.10/dist-packages (from tensorflow) (1.16.0)\n",
            "Requirement already satisfied: termcolor>=1.1.0 in /usr/local/lib/python3.10/dist-packages (from tensorflow) (2.4.0)\n",
            "Requirement already satisfied: typing-extensions>=3.6.6 in /usr/local/lib/python3.10/dist-packages (from tensorflow) (4.11.0)\n",
            "Requirement already satisfied: wrapt<1.15,>=1.11.0 in /usr/local/lib/python3.10/dist-packages (from tensorflow) (1.14.1)\n",
            "Requirement already satisfied: tensorflow-io-gcs-filesystem>=0.23.1 in /usr/local/lib/python3.10/dist-packages (from tensorflow) (0.36.0)\n",
            "Requirement already satisfied: grpcio<2.0,>=1.24.3 in /usr/local/lib/python3.10/dist-packages (from tensorflow) (1.62.1)\n",
            "Requirement already satisfied: tensorboard<2.16,>=2.15 in /usr/local/lib/python3.10/dist-packages (from tensorflow) (2.15.2)\n",
            "Requirement already satisfied: tensorflow-estimator<2.16,>=2.15.0 in /usr/local/lib/python3.10/dist-packages (from tensorflow) (2.15.0)\n",
            "Requirement already satisfied: keras<2.16,>=2.15.0 in /usr/local/lib/python3.10/dist-packages (from tensorflow) (2.15.0)\n",
            "Requirement already satisfied: wheel<1.0,>=0.23.0 in /usr/local/lib/python3.10/dist-packages (from astunparse>=1.6.0->tensorflow) (0.43.0)\n",
            "Requirement already satisfied: google-auth<3,>=1.6.3 in /usr/local/lib/python3.10/dist-packages (from tensorboard<2.16,>=2.15->tensorflow) (2.27.0)\n",
            "Requirement already satisfied: google-auth-oauthlib<2,>=0.5 in /usr/local/lib/python3.10/dist-packages (from tensorboard<2.16,>=2.15->tensorflow) (1.2.0)\n",
            "Requirement already satisfied: markdown>=2.6.8 in /usr/local/lib/python3.10/dist-packages (from tensorboard<2.16,>=2.15->tensorflow) (3.6)\n",
            "Requirement already satisfied: requests<3,>=2.21.0 in /usr/local/lib/python3.10/dist-packages (from tensorboard<2.16,>=2.15->tensorflow) (2.31.0)\n",
            "Requirement already satisfied: tensorboard-data-server<0.8.0,>=0.7.0 in /usr/local/lib/python3.10/dist-packages (from tensorboard<2.16,>=2.15->tensorflow) (0.7.2)\n",
            "Requirement already satisfied: werkzeug>=1.0.1 in /usr/local/lib/python3.10/dist-packages (from tensorboard<2.16,>=2.15->tensorflow) (3.0.2)\n",
            "Requirement already satisfied: cachetools<6.0,>=2.0.0 in /usr/local/lib/python3.10/dist-packages (from google-auth<3,>=1.6.3->tensorboard<2.16,>=2.15->tensorflow) (5.3.3)\n",
            "Requirement already satisfied: pyasn1-modules>=0.2.1 in /usr/local/lib/python3.10/dist-packages (from google-auth<3,>=1.6.3->tensorboard<2.16,>=2.15->tensorflow) (0.4.0)\n",
            "Requirement already satisfied: rsa<5,>=3.1.4 in /usr/local/lib/python3.10/dist-packages (from google-auth<3,>=1.6.3->tensorboard<2.16,>=2.15->tensorflow) (4.9)\n",
            "Requirement already satisfied: requests-oauthlib>=0.7.0 in /usr/local/lib/python3.10/dist-packages (from google-auth-oauthlib<2,>=0.5->tensorboard<2.16,>=2.15->tensorflow) (1.3.1)\n",
            "Requirement already satisfied: charset-normalizer<4,>=2 in /usr/local/lib/python3.10/dist-packages (from requests<3,>=2.21.0->tensorboard<2.16,>=2.15->tensorflow) (3.3.2)\n",
            "Requirement already satisfied: idna<4,>=2.5 in /usr/local/lib/python3.10/dist-packages (from requests<3,>=2.21.0->tensorboard<2.16,>=2.15->tensorflow) (3.7)\n",
            "Requirement already satisfied: urllib3<3,>=1.21.1 in /usr/local/lib/python3.10/dist-packages (from requests<3,>=2.21.0->tensorboard<2.16,>=2.15->tensorflow) (2.0.7)\n",
            "Requirement already satisfied: certifi>=2017.4.17 in /usr/local/lib/python3.10/dist-packages (from requests<3,>=2.21.0->tensorboard<2.16,>=2.15->tensorflow) (2024.2.2)\n",
            "Requirement already satisfied: MarkupSafe>=2.1.1 in /usr/local/lib/python3.10/dist-packages (from werkzeug>=1.0.1->tensorboard<2.16,>=2.15->tensorflow) (2.1.5)\n",
            "Requirement already satisfied: pyasn1<0.7.0,>=0.4.6 in /usr/local/lib/python3.10/dist-packages (from pyasn1-modules>=0.2.1->google-auth<3,>=1.6.3->tensorboard<2.16,>=2.15->tensorflow) (0.6.0)\n",
            "Requirement already satisfied: oauthlib>=3.0.0 in /usr/local/lib/python3.10/dist-packages (from requests-oauthlib>=0.7.0->google-auth-oauthlib<2,>=0.5->tensorboard<2.16,>=2.15->tensorflow) (3.2.2)\n",
            "Requirement already satisfied: scikit-learn in /usr/local/lib/python3.10/dist-packages (1.2.2)\n",
            "Requirement already satisfied: numpy>=1.17.3 in /usr/local/lib/python3.10/dist-packages (from scikit-learn) (1.25.2)\n",
            "Requirement already satisfied: scipy>=1.3.2 in /usr/local/lib/python3.10/dist-packages (from scikit-learn) (1.11.4)\n",
            "Requirement already satisfied: joblib>=1.1.1 in /usr/local/lib/python3.10/dist-packages (from scikit-learn) (1.4.0)\n",
            "Requirement already satisfied: threadpoolctl>=2.0.0 in /usr/local/lib/python3.10/dist-packages (from scikit-learn) (3.4.0)\n"
          ]
        }
      ],
      "source": [
        "#εγκατάσταση πακέτου tensorflow (hhttps://www.tensorflow.org/)\n",
        "!pip install tensorflow\n",
        "#εγκατάσταση πακέτου scikit-learn (https://scikit-learn.org/)\n",
        "!pip install scikit-learn"
      ]
    },
    {
      "cell_type": "code",
      "source": [
        "#εισαγωγή βιβλιοθηκών - πακέτων\n",
        "import numpy as np\n",
        "import pandas as pd\n",
        "from sklearn.model_selection import train_test_split\n",
        "from sklearn.preprocessing import StandardScaler\n",
        "from tensorflow.keras.models import Sequential, load_model\n",
        "from tensorflow.keras.layers import Dense, Dropout\n",
        "from tensorflow.keras.callbacks import EarlyStopping, ModelCheckpoint\n",
        "from sklearn.metrics import classification_report\n",
        "import matplotlib.pyplot as plt\n"
      ],
      "metadata": {
        "collapsed": true,
        "id": "NKteLMvn50yf"
      },
      "execution_count": 2,
      "outputs": []
    },
    {
      "cell_type": "code",
      "source": [
        "#συνάρτηση εισαγωγής συνόλου δεδομένων\n",
        "def load_dataset(file_path):\n",
        "    df = pd.read_csv(file_path)\n",
        "    X = df.drop('target', axis=1).values\n",
        "    y = df['target'].values\n",
        "    return X, y"
      ],
      "metadata": {
        "id": "Ju0ccl6nAAbq"
      },
      "execution_count": 3,
      "outputs": []
    },
    {
      "cell_type": "code",
      "source": [
        "#συνάρτηση δημιουργίας και εκπαίδευσης νευρωνικού δικτύου\n",
        "def create_and_train_model(input_dim):\n",
        "    model = Sequential()\n",
        "    model.add(Dense(256, input_dim=input_dim, activation='relu'))\n",
        "    model.add(Dropout(0.5))\n",
        "    model.add(Dense(128, activation='relu'))\n",
        "    model.add(Dropout(0.5))\n",
        "    model.add(Dense(64, activation='relu'))\n",
        "    model.add(Dense(3, activation='softmax'))\n",
        "    model.compile(optimizer='adam', loss='sparse_categorical_crossentropy', metrics=['accuracy'])\n",
        "    return model"
      ],
      "metadata": {
        "id": "z9q7Qmp6AMe0"
      },
      "execution_count": 4,
      "outputs": []
    },
    {
      "cell_type": "code",
      "source": [
        "#συνάρτηση αξιολόγησης μοντέλου και εκτύπωσης αποτελέσματων κατηγοριοποίησης\n",
        "def evaluate_model(model, X_test, y_test):\n",
        "    y_pred_probs = model.predict(X_test)\n",
        "    y_pred = np.argmax(y_pred_probs, axis=1)\n",
        "    accuracy = classification_report(y_test, y_pred, output_dict=True)\n",
        "    return accuracy['accuracy']"
      ],
      "metadata": {
        "id": "atn0PMsyAbss"
      },
      "execution_count": 5,
      "outputs": []
    },
    {
      "cell_type": "code",
      "source": [
        "#συνάρτηση προσομοίωσης \"λ\" αρχιτεκτονικής με επανεκπαίδευση μετά από πλήθος ροών δεδομένων (streaming lambda architecture with periodic retraining)\n",
        "def simulate_streaming_lambda_architecture(csv_file_path, model, scaler, batch_size=500, retrain_every_batches=800, total_batches=8000):\n",
        "    batch_counter = 0\n",
        "    train_accuracies = []\n",
        "    test_accuracies = []\n",
        "\n",
        "    while batch_counter < total_batches:\n",
        "        #φόρτωση συνόλου δεδομένων από csv αρχείο\n",
        "        X, y = load_dataset(csv_file_path)\n",
        "\n",
        "        #τυποποίηση (standardize) δεδομένων\n",
        "        X = scaler.transform(X)\n",
        "\n",
        "        #κατάτμηση δεδομένων σε ροές (batches)\n",
        "        for i in range(0, len(X), batch_size):\n",
        "            batch_counter += 1\n",
        "            X_batch = X[i:i + batch_size]\n",
        "            y_batch = y[i:i + batch_size]\n",
        "\n",
        "            #εκπαίδευση μοντέλου με κάθε ροή δεδομένων\n",
        "            model.train_on_batch(X_batch, y_batch)\n",
        "\n",
        "            #περιοδική εκπαίδευση μοντέλου με όλα τα δεδομένα\n",
        "            if batch_counter % retrain_every_batches == 0:\n",
        "                #τμηματοποίηση δεδομένων σε σύνολα εκπαίδευσης και δοκιμών\n",
        "                X_train, X_test, y_train, y_test = train_test_split(X, y, test_size=0.2, random_state=42)\n",
        "\n",
        "                #επανεκπαίδευση μοντέλου με όλα τα δεδομένα\n",
        "                model = create_and_train_model(X_train.shape[1])\n",
        "                model.fit(X_train, y_train, epochs=5, batch_size=64)  # Train for a few epochs\n",
        "\n",
        "                #αποθήκευση των βαρών (weights) του μοντέλου για μελλοντική επανεκπαίδευση\n",
        "                model.save('model_weights.keras')\n",
        "\n",
        "                #αξιολόγηση του μοντέλου στα σύνολα εκπαίδευσης και δοκιμών\n",
        "                train_accuracy = evaluate_model(model, X_train, y_train)\n",
        "                test_accuracy = evaluate_model(model, X_test, y_test)\n",
        "\n",
        "                train_accuracies.append(train_accuracy)\n",
        "                test_accuracies.append(test_accuracy)\n",
        "\n",
        "                print(f\"Batch {batch_counter}, Training Accuracy: {train_accuracy:.4f}, Test Accuracy: {test_accuracy:.4f}\")\n",
        "\n",
        "    #εκτύπωση γραφικής απεικόνισης ακρίβειας μοντέλου\n",
        "    plt.plot(range(1, total_batches+1, retrain_every_batches), train_accuracies, label='Training Accuracy')\n",
        "    plt.plot(range(1, total_batches+1, retrain_every_batches), test_accuracies, label='Test Accuracy')\n",
        "    plt.xlabel('Batch Number')\n",
        "    plt.ylabel('Accuracy')\n",
        "    plt.title('Training and Test Accuracy Over Batches')\n",
        "    plt.legend()\n",
        "    plt.show()"
      ],
      "metadata": {
        "id": "ZqB6dkyOAtEH"
      },
      "execution_count": 6,
      "outputs": []
    },
    {
      "cell_type": "code",
      "source": [
        "#θέση αρχείου csv με το σύνολο δεδομένων\n",
        "csv_file_path = 'https://raw.githubusercontent.com/kdemertzis/EKPA/main/Data/pcap_data.csv'"
      ],
      "metadata": {
        "id": "UlnEKorYCoeq"
      },
      "execution_count": 7,
      "outputs": []
    },
    {
      "cell_type": "code",
      "source": [
        "#τυποποίηση (standardize) δεδομένων\n",
        "scaler = StandardScaler()"
      ],
      "metadata": {
        "id": "--1WU5nBDIRb"
      },
      "execution_count": 8,
      "outputs": []
    },
    {
      "cell_type": "code",
      "source": [
        "#φόρτωση συνόλου δεδομένων\n",
        "X, y = load_dataset(csv_file_path)\n",
        "X = scaler.fit_transform(X)"
      ],
      "metadata": {
        "id": "Il_iJbHsDKbe"
      },
      "execution_count": 9,
      "outputs": []
    },
    {
      "cell_type": "code",
      "source": [
        "#εκπαίδευση μοντέλου\n",
        "X_train, X_test, y_train, y_test = train_test_split(X, y, test_size=0.2, random_state=42)\n",
        "X_train, X_val, y_train, y_val = train_test_split(X_train, y_train, test_size=0.2, random_state=42)\n",
        "model = create_and_train_model(X_train.shape[1])"
      ],
      "metadata": {
        "id": "SBlnsi6kDMv3"
      },
      "execution_count": 10,
      "outputs": []
    },
    {
      "cell_type": "code",
      "source": [
        "#εκκίνηση προσομοίωσης \"λ\" αρχιτεκτονικής με επανεκπαίδευση μοντέλου\n",
        "simulate_streaming_lambda_architecture(csv_file_path, model, scaler)"
      ],
      "metadata": {
        "id": "Vwtbid-eDPRv",
        "outputId": "9eabdf14-b90b-4d4c-8e45-ee5edaf7cb9c",
        "colab": {
          "base_uri": "https://localhost:8080/",
          "height": 1000
        }
      },
      "execution_count": 11,
      "outputs": [
        {
          "output_type": "stream",
          "name": "stdout",
          "text": [
            "Epoch 1/5\n",
            "188/188 [==============================] - 2s 4ms/step - loss: 0.6565 - accuracy: 0.7502\n",
            "Epoch 2/5\n",
            "188/188 [==============================] - 1s 5ms/step - loss: 0.4765 - accuracy: 0.8574\n",
            "Epoch 3/5\n",
            "188/188 [==============================] - 1s 5ms/step - loss: 0.4414 - accuracy: 0.8769\n",
            "Epoch 4/5\n",
            "188/188 [==============================] - 1s 3ms/step - loss: 0.4145 - accuracy: 0.8878\n",
            "Epoch 5/5\n",
            "188/188 [==============================] - 1s 3ms/step - loss: 0.4059 - accuracy: 0.8918\n",
            "375/375 [==============================] - 1s 1ms/step\n",
            "94/94 [==============================] - 0s 1ms/step\n",
            "Batch 800, Training Accuracy: 0.9149, Test Accuracy: 0.9038\n",
            "Epoch 1/5\n",
            "188/188 [==============================] - 2s 6ms/step - loss: 0.6580 - accuracy: 0.7447\n",
            "Epoch 2/5\n",
            "188/188 [==============================] - 1s 5ms/step - loss: 0.4749 - accuracy: 0.8588\n",
            "Epoch 3/5\n",
            "188/188 [==============================] - 1s 7ms/step - loss: 0.4394 - accuracy: 0.8779\n",
            "Epoch 4/5\n",
            "188/188 [==============================] - 2s 9ms/step - loss: 0.4162 - accuracy: 0.8898\n",
            "Epoch 5/5\n",
            "188/188 [==============================] - 1s 7ms/step - loss: 0.4024 - accuracy: 0.8942\n",
            "375/375 [==============================] - 1s 1ms/step\n",
            "94/94 [==============================] - 0s 1ms/step\n",
            "Batch 1600, Training Accuracy: 0.9156, Test Accuracy: 0.9038\n",
            "Epoch 1/5\n",
            "188/188 [==============================] - 1s 3ms/step - loss: 0.6640 - accuracy: 0.7430\n",
            "Epoch 2/5\n",
            "188/188 [==============================] - 1s 3ms/step - loss: 0.4873 - accuracy: 0.8515\n",
            "Epoch 3/5\n",
            "188/188 [==============================] - 1s 3ms/step - loss: 0.4381 - accuracy: 0.8759\n",
            "Epoch 4/5\n",
            "188/188 [==============================] - 1s 3ms/step - loss: 0.4205 - accuracy: 0.8849\n",
            "Epoch 5/5\n",
            "188/188 [==============================] - 1s 3ms/step - loss: 0.4053 - accuracy: 0.8913\n",
            "375/375 [==============================] - 1s 1ms/step\n",
            "94/94 [==============================] - 0s 1ms/step\n",
            "Batch 2400, Training Accuracy: 0.9151, Test Accuracy: 0.9035\n",
            "Epoch 1/5\n",
            "188/188 [==============================] - 2s 3ms/step - loss: 0.6303 - accuracy: 0.7636\n",
            "Epoch 2/5\n",
            "188/188 [==============================] - 1s 3ms/step - loss: 0.4866 - accuracy: 0.8521\n",
            "Epoch 3/5\n",
            "188/188 [==============================] - 1s 3ms/step - loss: 0.4408 - accuracy: 0.8791\n",
            "Epoch 4/5\n",
            "188/188 [==============================] - 1s 3ms/step - loss: 0.4227 - accuracy: 0.8841\n",
            "Epoch 5/5\n",
            "188/188 [==============================] - 1s 3ms/step - loss: 0.4084 - accuracy: 0.8938\n",
            "375/375 [==============================] - 1s 1ms/step\n",
            "94/94 [==============================] - 0s 1ms/step\n",
            "Batch 3200, Training Accuracy: 0.9138, Test Accuracy: 0.9031\n",
            "Epoch 1/5\n",
            "188/188 [==============================] - 2s 3ms/step - loss: 0.6570 - accuracy: 0.7452\n",
            "Epoch 2/5\n",
            "188/188 [==============================] - 1s 3ms/step - loss: 0.4784 - accuracy: 0.8594\n",
            "Epoch 3/5\n",
            "188/188 [==============================] - 1s 3ms/step - loss: 0.4470 - accuracy: 0.8740\n",
            "Epoch 4/5\n",
            "188/188 [==============================] - 1s 3ms/step - loss: 0.4168 - accuracy: 0.8892\n",
            "Epoch 5/5\n",
            "188/188 [==============================] - 1s 3ms/step - loss: 0.4036 - accuracy: 0.8958\n",
            "375/375 [==============================] - 1s 1ms/step\n",
            "94/94 [==============================] - 0s 2ms/step\n",
            "Batch 4000, Training Accuracy: 0.9167, Test Accuracy: 0.9068\n",
            "Epoch 1/5\n",
            "188/188 [==============================] - 1s 3ms/step - loss: 0.6808 - accuracy: 0.7337\n",
            "Epoch 2/5\n",
            "188/188 [==============================] - 1s 3ms/step - loss: 0.4819 - accuracy: 0.8553\n",
            "Epoch 3/5\n",
            "188/188 [==============================] - 1s 4ms/step - loss: 0.4434 - accuracy: 0.8730\n",
            "Epoch 4/5\n",
            "188/188 [==============================] - 1s 3ms/step - loss: 0.4183 - accuracy: 0.8858\n",
            "Epoch 5/5\n",
            "188/188 [==============================] - 1s 3ms/step - loss: 0.4059 - accuracy: 0.8910\n",
            "375/375 [==============================] - 1s 1ms/step\n",
            "94/94 [==============================] - 0s 1ms/step\n",
            "Batch 4800, Training Accuracy: 0.9118, Test Accuracy: 0.8995\n",
            "Epoch 1/5\n",
            "188/188 [==============================] - 2s 3ms/step - loss: 0.6565 - accuracy: 0.7483\n",
            "Epoch 2/5\n",
            "188/188 [==============================] - 1s 3ms/step - loss: 0.4812 - accuracy: 0.8540\n",
            "Epoch 3/5\n",
            "188/188 [==============================] - 1s 3ms/step - loss: 0.4383 - accuracy: 0.8753\n",
            "Epoch 4/5\n",
            "188/188 [==============================] - 1s 3ms/step - loss: 0.4242 - accuracy: 0.8866\n",
            "Epoch 5/5\n",
            "188/188 [==============================] - 1s 3ms/step - loss: 0.4126 - accuracy: 0.8908\n",
            "375/375 [==============================] - 1s 1ms/step\n",
            "94/94 [==============================] - 0s 2ms/step\n",
            "Batch 5600, Training Accuracy: 0.9146, Test Accuracy: 0.9018\n",
            "Epoch 1/5\n",
            "188/188 [==============================] - 1s 3ms/step - loss: 0.6590 - accuracy: 0.7432\n",
            "Epoch 2/5\n",
            "188/188 [==============================] - 1s 3ms/step - loss: 0.4824 - accuracy: 0.8526\n",
            "Epoch 3/5\n",
            "188/188 [==============================] - 1s 3ms/step - loss: 0.4438 - accuracy: 0.8761\n",
            "Epoch 4/5\n",
            "188/188 [==============================] - 1s 3ms/step - loss: 0.4223 - accuracy: 0.8843\n",
            "Epoch 5/5\n",
            "188/188 [==============================] - 1s 3ms/step - loss: 0.4039 - accuracy: 0.8917\n",
            "375/375 [==============================] - 1s 1ms/step\n",
            "94/94 [==============================] - 0s 1ms/step\n",
            "Batch 6400, Training Accuracy: 0.9125, Test Accuracy: 0.9025\n",
            "Epoch 1/5\n",
            "188/188 [==============================] - 1s 3ms/step - loss: 0.6565 - accuracy: 0.7503\n",
            "Epoch 2/5\n",
            "188/188 [==============================] - 1s 5ms/step - loss: 0.4818 - accuracy: 0.8555\n",
            "Epoch 3/5\n",
            "188/188 [==============================] - 1s 6ms/step - loss: 0.4426 - accuracy: 0.8748\n",
            "Epoch 4/5\n",
            "188/188 [==============================] - 1s 5ms/step - loss: 0.4217 - accuracy: 0.8887\n",
            "Epoch 5/5\n",
            "188/188 [==============================] - 1s 4ms/step - loss: 0.4036 - accuracy: 0.8923\n",
            "375/375 [==============================] - 1s 1ms/step\n",
            "94/94 [==============================] - 0s 1ms/step\n",
            "Batch 7200, Training Accuracy: 0.9142, Test Accuracy: 0.9035\n",
            "Epoch 1/5\n",
            "188/188 [==============================] - 2s 6ms/step - loss: 0.6615 - accuracy: 0.7409\n",
            "Epoch 2/5\n",
            "188/188 [==============================] - 1s 6ms/step - loss: 0.4789 - accuracy: 0.8563\n",
            "Epoch 3/5\n",
            "188/188 [==============================] - 1s 4ms/step - loss: 0.4455 - accuracy: 0.8770\n",
            "Epoch 4/5\n",
            "188/188 [==============================] - 1s 3ms/step - loss: 0.4198 - accuracy: 0.8845\n",
            "Epoch 5/5\n",
            "188/188 [==============================] - 1s 3ms/step - loss: 0.4070 - accuracy: 0.8925\n",
            "375/375 [==============================] - 1s 1ms/step\n",
            "94/94 [==============================] - 0s 1ms/step\n",
            "Batch 8000, Training Accuracy: 0.9148, Test Accuracy: 0.9038\n"
          ]
        },
        {
          "output_type": "display_data",
          "data": {
            "text/plain": [
              "<Figure size 640x480 with 1 Axes>"
            ],
            "image/png": "[encoded data removed]"
          },
          "metadata": {}
        }
      ]
    }
  ]
}